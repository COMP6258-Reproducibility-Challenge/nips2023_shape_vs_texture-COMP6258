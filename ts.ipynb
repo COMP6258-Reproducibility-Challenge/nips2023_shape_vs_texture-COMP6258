{
 "cells": [
  {
   "cell_type": "code",
   "execution_count": 1,
   "metadata": {},
   "outputs": [],
   "source": [
    "%load_ext autoreload\n",
    "%autoreload 2"
   ]
  },
  {
   "cell_type": "code",
   "execution_count": null,
   "metadata": {},
   "outputs": [
    {
     "name": "stdout",
     "output_type": "stream",
     "text": [
      "version: 1\n",
      "run [957]: loss 6555.65527343755"
     ]
    }
   ],
   "source": [
    "from synthesizer import run_texture_synthesis\n",
    "from PIL import Image\n",
    "import torch\n",
    "import numpy as np\n",
    "import matplotlib.pyplot as plt\n",
    "import torchvision.transforms as transforms\n",
    "import synthesizer\n",
    "\n",
    "texture = 'lisa.webp'\n",
    "texture_image_orig = Image.open(texture)\n",
    "texture_image_orig = texture_image_orig.resize((synthesizer.IMAGE_SIZE[0], synthesizer.IMAGE_SIZE[1]))\n",
    "to_tensor = transforms.ToTensor()\n",
    "\n",
    "texture_image = to_tensor(texture_image_orig)\n",
    "#change the tensor to 4D with batch size 1\n",
    "texture_image = texture_image.unsqueeze(0)\n",
    "\n",
    "\n",
    "torch.autograd.set_detect_anomaly(True)\n",
    "synthesized_image = run_texture_synthesis(texture_image)\n",
    "synthesized_image = synthesized_image.detach().cpu().squeeze(0).numpy().transpose(1, 2, 0)\n",
    "synthesized_image = np.clip(synthesized_image, 0, 1)\n",
    "# Display the original and synthesized images\n",
    "fig, (ax1, ax2) = plt.subplots(1, 2, figsize=(15, 5))\n",
    "ax1.imshow(texture_image_orig)\n",
    "ax1.axis('off')\n",
    "ax1.set_title('original image')\n",
    "ax2.imshow(synthesized_image)\n",
    "ax2.axis('off')\n",
    "ax2.set_title('synthesized image')\n",
    "plt.savefig('lisa-with-top-k.png')\n",
    "plt.show()\n"
   ]
  },
  {
   "cell_type": "code",
   "execution_count": 16,
   "metadata": {},
   "outputs": [],
   "source": [
    "plt.show()"
   ]
  },
  {
   "cell_type": "code",
   "execution_count": null,
   "metadata": {},
   "outputs": [],
   "source": []
  }
 ],
 "metadata": {
  "kernelspec": {
   "display_name": "Python 3 (ipykernel)",
   "language": "python",
   "name": "python3"
  },
  "language_info": {
   "codemirror_mode": {
    "name": "ipython",
    "version": 3
   },
   "file_extension": ".py",
   "mimetype": "text/x-python",
   "name": "python",
   "nbconvert_exporter": "python",
   "pygments_lexer": "ipython3",
   "version": "3.11.8"
  }
 },
 "nbformat": 4,
 "nbformat_minor": 4
}
