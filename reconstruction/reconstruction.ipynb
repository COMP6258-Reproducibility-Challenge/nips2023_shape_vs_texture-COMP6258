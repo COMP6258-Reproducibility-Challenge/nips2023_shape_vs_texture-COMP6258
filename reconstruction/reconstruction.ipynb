{
 "cells": [
  {
   "cell_type": "code",
   "execution_count": 1,
   "id": "105852c6-c74c-42a8-912d-0babab4bdac1",
   "metadata": {},
   "outputs": [],
   "source": [
    "%load_ext autoreload\n",
    "%autoreload 2"
   ]
  },
  {
   "cell_type": "code",
   "execution_count": 2,
   "id": "dd418b07-2854-4650-a14a-704c90fb2029",
   "metadata": {},
   "outputs": [],
   "source": [
    "from reconstruction import Model, TopKLayer\n",
    "from PIL import Image\n",
    "import torch\n",
    "import numpy as np\n",
    "import matplotlib.pyplot as plt\n",
    "import torchvision.transforms as transforms\n",
    "import os\n",
    "import itertools\n",
    "from torch import optim"
   ]
  },
  {
   "cell_type": "code",
   "execution_count": 3,
   "id": "db09175a-96d7-476c-bce5-629c3a8f6b39",
   "metadata": {},
   "outputs": [],
   "source": [
    "device = torch.device(\"cuda\" if torch.cuda.is_available() else \"cpu\") "
   ]
  },
  {
   "cell_type": "code",
   "execution_count": 8,
   "id": "d5a1f667-2498-4434-a0ac-f06012f843b6",
   "metadata": {},
   "outputs": [],
   "source": [
    "def getImage(img_path, p, epochs=100):\n",
    "    m = Model(img_path, topk=p['topk'], device=p['device'], dimensions=p['dimensions'], mode=p['mode'])\n",
    "    I = torch.rand((1, 3, m.dimensions[0], m.dimensions[1])).to(device)\n",
    "    I = I.requires_grad_(True)\n",
    "    optimizer = optim.LBFGS([I], lr=1)\n",
    "\n",
    "    r = 0\n",
    "    while r < epochs:\n",
    "        def closure():\n",
    "            optimizer.zero_grad()\n",
    "            I.grad = None\n",
    "            m(I)\n",
    "            loss = m.loss()\n",
    "            loss.backward(retain_graph=True)\n",
    "            #print(f'I gradient: {I.grad}')\n",
    "            return loss\n",
    "        optimizer.step(closure)\n",
    "        \n",
    "        #transforms.ToPILImage()(np.clip(I.clone().detach().cpu().squeeze(0).numpy().transpose(1, 2, 0), 0, 1)).save(os.path.join('./results', f'{r}.jpg'))\n",
    "        r += 1\n",
    "        print(f'\\rEpoch {r}: Loss {m.loss().item()}', end='')\n",
    "    print()\n",
    "    return I"
   ]
  },
  {
   "cell_type": "code",
   "execution_count": 9,
   "id": "0091b4d0-53bd-47e0-bf97-b7550e7f1da0",
   "metadata": {},
   "outputs": [],
   "source": [
    "def get_path(img_name):\n",
    "    img_ext = '.jpg'\n",
    "    img_path = os.path.join('./', img_name + img_ext)\n",
    "    return img_path, img_name, img_ext"
   ]
  },
  {
   "cell_type": "code",
   "execution_count": 10,
   "id": "25372787-3ec3-4379-a203-5601ff963b93",
   "metadata": {},
   "outputs": [],
   "source": [
    "parameters = {\n",
    "    'topk': 0.05,\n",
    "    'device': device,\n",
    "    'dimensions': (500, 500), \n",
    "    'mode': 'topk'\n",
    "} "
   ]
  },
  {
   "cell_type": "code",
   "execution_count": null,
   "id": "cccb064c-ec96-4332-81ff-c44918f5fa79",
   "metadata": {
    "scrolled": true
   },
   "outputs": [
    {
     "name": "stdout",
     "output_type": "stream",
     "text": [
      "(0.05, 'non-topk', 'rocks')\n",
      "Epoch 10: Loss 670866.255\n",
      "(0.05, 'non-topk', 'jeep1')\n",
      "Epoch 10: Loss 781452.3125\n",
      "(0.05, 'topk', 'rocks')\n",
      "Epoch 10: Loss 173122.96875\n",
      "(0.05, 'topk', 'jeep1')\n",
      "Epoch 10: Loss 206952.921875\n",
      "(0.05, 'both', 'rocks')\n",
      "Epoch 10: Loss 1823.9219970703125\n",
      "(0.05, 'both', 'jeep1')\n",
      "Epoch 8: Loss 9513.8847656255"
     ]
    }
   ],
   "source": [
    "topks = [0.05]#, 0.5, 0.95]\n",
    "modes = ['non-topk', 'topk', 'both']\n",
    "img_names = ['rocks', 'jeep1']\n",
    "\n",
    "I = None\n",
    "for p in itertools.product(topks, modes, img_names):\n",
    "    print(p)\n",
    "    topk = p[0]\n",
    "    mode = p[1]\n",
    "    img_path, img_name, img_ext = get_path(p[2])\n",
    "    \n",
    "    parameters['topk'] = topk\n",
    "    parameters['mode'] = mode\n",
    "\n",
    "    I = getImage(img_path, parameters, epochs=10)\n",
    "    transforms.ToPILImage()(np.clip(I.clone().detach().cpu().squeeze(0).numpy().transpose(1, 2, 0), 0, 1)).save(os.path.join('./results', f'{img_name}-{topk}-{mode}{img_ext}'))"
   ]
  },
  {
   "cell_type": "code",
   "execution_count": null,
   "id": "9864d50f-4a19-4562-a0a8-39a696e34c49",
   "metadata": {},
   "outputs": [],
   "source": []
  }
 ],
 "metadata": {
  "kernelspec": {
   "display_name": "Python 3 (ipykernel)",
   "language": "python",
   "name": "python3"
  },
  "language_info": {
   "codemirror_mode": {
    "name": "ipython",
    "version": 3
   },
   "file_extension": ".py",
   "mimetype": "text/x-python",
   "name": "python",
   "nbconvert_exporter": "python",
   "pygments_lexer": "ipython3",
   "version": "3.11.6"
  }
 },
 "nbformat": 4,
 "nbformat_minor": 5
}
