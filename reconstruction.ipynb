{
 "cells": [
  {
   "cell_type": "code",
   "execution_count": 1,
   "id": "105852c6-c74c-42a8-912d-0babab4bdac1",
   "metadata": {},
   "outputs": [],
   "source": [
    "%load_ext autoreload\n",
    "%autoreload 2"
   ]
  },
  {
   "cell_type": "code",
   "execution_count": 2,
   "id": "dd418b07-2854-4650-a14a-704c90fb2029",
   "metadata": {},
   "outputs": [],
   "source": [
    "from reconstruction import Model, TopKLayer\n",
    "from PIL import Image\n",
    "import torch\n",
    "import numpy as np\n",
    "import matplotlib.pyplot as plt\n",
    "import torchvision.transforms as transforms\n",
    "import synthesizer\n",
    "import os\n",
    "import itertools\n",
    "from torch import optim"
   ]
  },
  {
   "cell_type": "code",
   "execution_count": 3,
   "id": "db09175a-96d7-476c-bce5-629c3a8f6b39",
   "metadata": {},
   "outputs": [],
   "source": [
    "device = torch.device(\"cuda\" if torch.cuda.is_available() else \"cpu\") "
   ]
  },
  {
   "cell_type": "code",
   "execution_count": 4,
   "id": "d5a1f667-2498-4434-a0ac-f06012f843b6",
   "metadata": {},
   "outputs": [],
   "source": [
    "def getImage(img_path, p, epochs=100):\n",
    "    m = Model(img_path, topk=p['topk'], device=p['device'], dimensions=p['dimensions'], mode=p['mode'], forward=False)\n",
    "    I = torch.ones((1, 3, m.dimensions[0], m.dimensions[1])).to(device)\n",
    "    I = I.requires_grad_(True)\n",
    "    optimizer = optim.LBFGS([I], lr=1)\n",
    "\n",
    "    r = 0\n",
    "    while r < epochs:\n",
    "        def closure():\n",
    "            optimizer.zero_grad()\n",
    "            I.grad = None\n",
    "            m(I)\n",
    "            loss = m.loss()\n",
    "            loss.backward(retain_graph=True)\n",
    "            #print(f'I gradient: {I.grad}')\n",
    "            return loss\n",
    "        optimizer.step(closure)\n",
    "        \n",
    "        #transforms.ToPILImage()(np.clip(I.clone().detach().cpu().squeeze(0).numpy().transpose(1, 2, 0), 0, 1)).save(os.path.join('./results', f'{r}.jpg'))\n",
    "        r += 1\n",
    "        print(f'\\rEpoch {r}: Loss {m.loss().item()}', end='')\n",
    "    print()\n",
    "    return I"
   ]
  },
  {
   "cell_type": "code",
   "execution_count": 5,
   "id": "0091b4d0-53bd-47e0-bf97-b7550e7f1da0",
   "metadata": {},
   "outputs": [],
   "source": [
    "def get_path(img_name):\n",
    "    img_ext = '.jpg'\n",
    "    img_path = os.path.join('./', img_name + img_ext)\n",
    "    return img_path, img_name, img_ext"
   ]
  },
  {
   "cell_type": "code",
   "execution_count": 6,
   "id": "25372787-3ec3-4379-a203-5601ff963b93",
   "metadata": {},
   "outputs": [],
   "source": [
    "parameters = {\n",
    "    'topk': 0.05,\n",
    "    'device': device,\n",
    "    'dimensions': (500, 500), \n",
    "    'mode': 'topk'\n",
    "} "
   ]
  },
  {
   "cell_type": "code",
   "execution_count": 7,
   "id": "cccb064c-ec96-4332-81ff-c44918f5fa79",
   "metadata": {
    "scrolled": true
   },
   "outputs": [
    {
     "name": "stdout",
     "output_type": "stream",
     "text": [
      "(0.05, 'non-topk', 'rocks')\n"
     ]
    },
    {
     "ename": "TypeError",
     "evalue": "Model.__init__() got an unexpected keyword argument 'forward'",
     "output_type": "error",
     "traceback": [
      "\u001b[0;31m---------------------------------------------------------------------------\u001b[0m",
      "\u001b[0;31mTypeError\u001b[0m                                 Traceback (most recent call last)",
      "Cell \u001b[0;32mIn[7], line 15\u001b[0m\n\u001b[1;32m     12\u001b[0m parameters[\u001b[38;5;124m'\u001b[39m\u001b[38;5;124mtopk\u001b[39m\u001b[38;5;124m'\u001b[39m] \u001b[38;5;241m=\u001b[39m topk\n\u001b[1;32m     13\u001b[0m parameters[\u001b[38;5;124m'\u001b[39m\u001b[38;5;124mmode\u001b[39m\u001b[38;5;124m'\u001b[39m] \u001b[38;5;241m=\u001b[39m mode\n\u001b[0;32m---> 15\u001b[0m I \u001b[38;5;241m=\u001b[39m \u001b[43mgetImage\u001b[49m\u001b[43m(\u001b[49m\u001b[43mimg_path\u001b[49m\u001b[43m,\u001b[49m\u001b[43m \u001b[49m\u001b[43mparameters\u001b[49m\u001b[43m,\u001b[49m\u001b[43m \u001b[49m\u001b[43mepochs\u001b[49m\u001b[38;5;241;43m=\u001b[39;49m\u001b[38;5;241;43m10\u001b[39;49m\u001b[43m)\u001b[49m\n\u001b[1;32m     16\u001b[0m transforms\u001b[38;5;241m.\u001b[39mToPILImage()(np\u001b[38;5;241m.\u001b[39mclip(I\u001b[38;5;241m.\u001b[39mclone()\u001b[38;5;241m.\u001b[39mdetach()\u001b[38;5;241m.\u001b[39mcpu()\u001b[38;5;241m.\u001b[39msqueeze(\u001b[38;5;241m0\u001b[39m)\u001b[38;5;241m.\u001b[39mnumpy()\u001b[38;5;241m.\u001b[39mtranspose(\u001b[38;5;241m1\u001b[39m, \u001b[38;5;241m2\u001b[39m, \u001b[38;5;241m0\u001b[39m), \u001b[38;5;241m0\u001b[39m, \u001b[38;5;241m1\u001b[39m))\u001b[38;5;241m.\u001b[39msave(os\u001b[38;5;241m.\u001b[39mpath\u001b[38;5;241m.\u001b[39mjoin(\u001b[38;5;124m'\u001b[39m\u001b[38;5;124m./results\u001b[39m\u001b[38;5;124m'\u001b[39m, \u001b[38;5;124mf\u001b[39m\u001b[38;5;124m'\u001b[39m\u001b[38;5;132;01m{\u001b[39;00mimg_name\u001b[38;5;132;01m}\u001b[39;00m\u001b[38;5;124m-\u001b[39m\u001b[38;5;132;01m{\u001b[39;00mtopk\u001b[38;5;132;01m}\u001b[39;00m\u001b[38;5;124m-\u001b[39m\u001b[38;5;132;01m{\u001b[39;00mmode\u001b[38;5;132;01m}\u001b[39;00m\u001b[38;5;132;01m{\u001b[39;00mimg_ext\u001b[38;5;132;01m}\u001b[39;00m\u001b[38;5;124m'\u001b[39m))\n",
      "Cell \u001b[0;32mIn[4], line 2\u001b[0m, in \u001b[0;36mgetImage\u001b[0;34m(img_path, p, epochs)\u001b[0m\n\u001b[1;32m      1\u001b[0m \u001b[38;5;28;01mdef\u001b[39;00m \u001b[38;5;21mgetImage\u001b[39m(img_path, p, epochs\u001b[38;5;241m=\u001b[39m\u001b[38;5;241m100\u001b[39m):\n\u001b[0;32m----> 2\u001b[0m     m \u001b[38;5;241m=\u001b[39m \u001b[43mModel\u001b[49m\u001b[43m(\u001b[49m\u001b[43mimg_path\u001b[49m\u001b[43m,\u001b[49m\u001b[43m \u001b[49m\u001b[43mtopk\u001b[49m\u001b[38;5;241;43m=\u001b[39;49m\u001b[43mp\u001b[49m\u001b[43m[\u001b[49m\u001b[38;5;124;43m'\u001b[39;49m\u001b[38;5;124;43mtopk\u001b[39;49m\u001b[38;5;124;43m'\u001b[39;49m\u001b[43m]\u001b[49m\u001b[43m,\u001b[49m\u001b[43m \u001b[49m\u001b[43mdevice\u001b[49m\u001b[38;5;241;43m=\u001b[39;49m\u001b[43mp\u001b[49m\u001b[43m[\u001b[49m\u001b[38;5;124;43m'\u001b[39;49m\u001b[38;5;124;43mdevice\u001b[39;49m\u001b[38;5;124;43m'\u001b[39;49m\u001b[43m]\u001b[49m\u001b[43m,\u001b[49m\u001b[43m \u001b[49m\u001b[43mdimensions\u001b[49m\u001b[38;5;241;43m=\u001b[39;49m\u001b[43mp\u001b[49m\u001b[43m[\u001b[49m\u001b[38;5;124;43m'\u001b[39;49m\u001b[38;5;124;43mdimensions\u001b[39;49m\u001b[38;5;124;43m'\u001b[39;49m\u001b[43m]\u001b[49m\u001b[43m,\u001b[49m\u001b[43m \u001b[49m\u001b[43mmode\u001b[49m\u001b[38;5;241;43m=\u001b[39;49m\u001b[43mp\u001b[49m\u001b[43m[\u001b[49m\u001b[38;5;124;43m'\u001b[39;49m\u001b[38;5;124;43mmode\u001b[39;49m\u001b[38;5;124;43m'\u001b[39;49m\u001b[43m]\u001b[49m\u001b[43m,\u001b[49m\u001b[43m \u001b[49m\u001b[43mforward\u001b[49m\u001b[38;5;241;43m=\u001b[39;49m\u001b[38;5;28;43;01mFalse\u001b[39;49;00m\u001b[43m)\u001b[49m\n\u001b[1;32m      3\u001b[0m     I \u001b[38;5;241m=\u001b[39m torch\u001b[38;5;241m.\u001b[39mones((\u001b[38;5;241m1\u001b[39m, \u001b[38;5;241m3\u001b[39m, m\u001b[38;5;241m.\u001b[39mdimensions[\u001b[38;5;241m0\u001b[39m], m\u001b[38;5;241m.\u001b[39mdimensions[\u001b[38;5;241m1\u001b[39m]))\u001b[38;5;241m.\u001b[39mto(device)\n\u001b[1;32m      4\u001b[0m     I \u001b[38;5;241m=\u001b[39m I\u001b[38;5;241m.\u001b[39mrequires_grad_(\u001b[38;5;28;01mTrue\u001b[39;00m)\n",
      "\u001b[0;31mTypeError\u001b[0m: Model.__init__() got an unexpected keyword argument 'forward'"
     ]
    }
   ],
   "source": [
    "topks = [0.05]#, 0.5, 0.95]\n",
    "modes = ['non-topk', 'topk', 'both']\n",
    "img_names = ['rocks', 'jeep1']\n",
    "\n",
    "I = None\n",
    "for p in itertools.product(topks, modes, img_names):\n",
    "    print(p)\n",
    "    topk = p[0]\n",
    "    mode = p[1]\n",
    "    img_path, img_name, img_ext = get_path(p[2])\n",
    "    \n",
    "    parameters['topk'] = topk\n",
    "    parameters['mode'] = mode\n",
    "\n",
    "    I = getImage(img_path, parameters, epochs=10)\n",
    "    transforms.ToPILImage()(np.clip(I.clone().detach().cpu().squeeze(0).numpy().transpose(1, 2, 0), 0, 1)).save(os.path.join('./results', f'{img_name}-{topk}-{mode}{img_ext}'))"
   ]
  },
  {
   "cell_type": "code",
   "execution_count": null,
   "id": "551ef5e1-b3b1-4285-b98d-eb5c99300049",
   "metadata": {},
   "outputs": [],
   "source": [
    "I"
   ]
  },
  {
   "cell_type": "code",
   "execution_count": null,
   "id": "408c6b07-5554-405b-9b91-94fd7840ec81",
   "metadata": {},
   "outputs": [],
   "source": []
  }
 ],
 "metadata": {
  "kernelspec": {
   "display_name": "Python 3 (ipykernel)",
   "language": "python",
   "name": "python3"
  },
  "language_info": {
   "codemirror_mode": {
    "name": "ipython",
    "version": 3
   },
   "file_extension": ".py",
   "mimetype": "text/x-python",
   "name": "python",
   "nbconvert_exporter": "python",
   "pygments_lexer": "ipython3",
   "version": "3.11.6"
  }
 },
 "nbformat": 4,
 "nbformat_minor": 5
}
